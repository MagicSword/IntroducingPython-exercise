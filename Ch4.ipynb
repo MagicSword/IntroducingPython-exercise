{
 "cells": [
  {
   "cell_type": "markdown",
   "metadata": {},
   "source": [
    "Ch4. exercise"
   ]
  },
  {
   "cell_type": "markdown",
   "metadata": {},
   "source": [
    "4.1 Assign the value 7 to the variable guess_me. Then, write the conditional tests (if,\n",
    "else, and elif) to print the string 'too low' if guess_me is less than 7, 'too high' if\n",
    "greater than 7, and 'just right' if equal to 7."
   ]
  },
  {
   "cell_type": "code",
   "execution_count": 9,
   "metadata": {},
   "outputs": [
    {
     "name": "stdin",
     "output_type": "stream",
     "text": [
      "input: 11\n"
     ]
    },
    {
     "name": "stdout",
     "output_type": "stream",
     "text": [
      "11 is too high\n"
     ]
    }
   ],
   "source": [
    "guess_me = 7\n",
    "\n",
    "x = int(input(\"input:\"))\n",
    "\n",
    "if x > guess_me:\n",
    "    print(str(x) + \" is too high\")\n",
    "elif x < guess_me:\n",
    "    print(str(x) + \" is too low\")\n",
    "else:\n",
    "    print(str(x) + \" is just right\")"
   ]
  },
  {
   "cell_type": "markdown",
   "metadata": {},
   "source": [
    "4.2 Assign the value 7 to the variable guess_me and the value 1 to the variable start.\n",
    "Write a while loop that compares start with guess_me. Print too low if start is less\n",
    "than guess me. If start equals guess_me, print 'found it!' and exit the loop. If start\n",
    "is greater than guess_me, print 'oops' and exit the loop. Increment start at the end of\n",
    "the loop."
   ]
  },
  {
   "cell_type": "code",
   "execution_count": 17,
   "metadata": {},
   "outputs": [
    {
     "name": "stdout",
     "output_type": "stream",
     "text": [
      "1 is too low\n",
      "\n",
      "2 is too low\n",
      "\n",
      "3 is too low\n",
      "\n",
      "4 is too low\n",
      "\n",
      "5 is too low\n",
      "\n",
      "6 is too low\n",
      "\n"
     ]
    }
   ],
   "source": [
    "guess_me = 7\n",
    "start = 1\n",
    "\n",
    "while start < guess_me:\n",
    "    print(str(start)+ \" is too low\\n\")\n",
    "    if start == guess_me:\n",
    "        print(\"found it\")\n",
    "        break\n",
    "    start += 1"
   ]
  },
  {
   "cell_type": "markdown",
   "metadata": {},
   "source": [
    "4.3 Use a for loop to print the values of the list [3, 2, 1, 0]."
   ]
  },
  {
   "cell_type": "code",
   "execution_count": 21,
   "metadata": {},
   "outputs": [
    {
     "name": "stdout",
     "output_type": "stream",
     "text": [
      "3\n",
      "2\n",
      "1\n",
      "0\n"
     ]
    }
   ],
   "source": [
    "for i in [3,2,1,0]:\n",
    "    print(i)"
   ]
  },
  {
   "cell_type": "markdown",
   "metadata": {},
   "source": [
    "4.4 Use a list comprehension to make a list of the even numbers in range(10)."
   ]
  },
  {
   "cell_type": "code",
   "execution_count": 29,
   "metadata": {},
   "outputs": [
    {
     "data": {
      "text/plain": [
       "[1, 3, 5, 7, 9]"
      ]
     },
     "execution_count": 29,
     "metadata": {},
     "output_type": "execute_result"
    }
   ],
   "source": [
    "[i for i in range(10) if i % 2 == 1 ]"
   ]
  },
  {
   "cell_type": "markdown",
   "metadata": {},
   "source": [
    "4.5 Use a dictionary comprehension to create the dictionary squares. Use range(10)\n",
    "to return the keys, and use the square of each key as its value."
   ]
  },
  {
   "cell_type": "code",
   "execution_count": 31,
   "metadata": {},
   "outputs": [
    {
     "data": {
      "text/plain": [
       "{0: 0, 1: 1, 2: 4, 3: 9, 4: 16, 5: 25, 6: 36, 7: 49, 8: 64, 9: 81}"
      ]
     },
     "execution_count": 31,
     "metadata": {},
     "output_type": "execute_result"
    }
   ],
   "source": [
    "{x:x ** 2 for x in range(10)}"
   ]
  },
  {
   "cell_type": "markdown",
   "metadata": {},
   "source": [
    "4.6 Use a set comprehension to create the set odd from the odd numbers in range(10)."
   ]
  },
  {
   "cell_type": "code",
   "execution_count": 32,
   "metadata": {},
   "outputs": [
    {
     "data": {
      "text/plain": [
       "{0, 1, 2, 3, 4, 5, 6, 7, 8, 9}"
      ]
     },
     "execution_count": 32,
     "metadata": {},
     "output_type": "execute_result"
    }
   ],
   "source": [
    "{x for x in range(10)}"
   ]
  },
  {
   "cell_type": "markdown",
   "metadata": {},
   "source": [
    "4.7 Use a generator comprehension to return the string 'Got ' and a number for the\n",
    "numbers in range(10). Iterate through this by using a for loop."
   ]
  },
  {
   "cell_type": "code",
   "execution_count": 35,
   "metadata": {},
   "outputs": [
    {
     "name": "stdout",
     "output_type": "stream",
     "text": [
      "Got 0\n",
      "Got 1\n",
      "Got 2\n",
      "Got 3\n",
      "Got 4\n",
      "Got 5\n",
      "Got 6\n",
      "Got 7\n",
      "Got 8\n",
      "Got 9\n"
     ]
    }
   ],
   "source": [
    " a = ('Got %s' %+ x for x in range(10))\n",
    "for i in a:\n",
    "    print(i)"
   ]
  },
  {
   "cell_type": "markdown",
   "metadata": {},
   "source": [
    "4.8 Define a function called good that returns the list ['Harry', 'Ron', 'Hermione'].\n"
   ]
  },
  {
   "cell_type": "code",
   "execution_count": 46,
   "metadata": {},
   "outputs": [],
   "source": [
    "def good():\n",
    "    return ['Harry', 'Ron', 'Hermione']"
   ]
  },
  {
   "cell_type": "markdown",
   "metadata": {},
   "source": [
    "4.9 Define a generator function called get_odds that returns the odd numbers from\n",
    "range(10). Use a for loop to find and print the third value returned\n",
    "\n"
   ]
  },
  {
   "cell_type": "code",
   "execution_count": 45,
   "metadata": {},
   "outputs": [
    {
     "name": "stdout",
     "output_type": "stream",
     "text": [
      "Third number is 5\n"
     ]
    }
   ],
   "source": [
    "def get_odds():\n",
    "    for i in range(1,10,2):\n",
    "        yield i\n",
    "    \n",
    "\n",
    "for count, number in enumerate(get_odds(),1):\n",
    "    if count == 3:\n",
    "        print(\"Third number is\", number)\n",
    "        break"
   ]
  },
  {
   "cell_type": "markdown",
   "metadata": {},
   "source": [
    "4.10 Define a decorator called test that prints 'start' when a function is called and\n",
    "'end' when it finishes.\n"
   ]
  },
  {
   "cell_type": "code",
   "execution_count": 50,
   "metadata": {},
   "outputs": [
    {
     "name": "stdout",
     "output_type": "stream",
     "text": [
      "Start func: greetint\n",
      "Posttional arguments: ()\n",
      "Keyword arguments: {}\n",
      "hello\n",
      "Result: None\n",
      "End: greetint\n"
     ]
    }
   ],
   "source": [
    "def document_it(func):\n",
    "    def new_function(*args, **kwargs):\n",
    "        print('Start func:',func.__name__)\n",
    "        print('Posttional arguments:',args)\n",
    "        print('Keyword arguments:',kwargs)\n",
    "        result = func(*args, **kwargs)\n",
    "        print('Result:',result)\n",
    "        print('End:',func.__name__)\n",
    "        return result\n",
    "    return new_function\n",
    "\n",
    "@document_it\n",
    "def greetint():\n",
    "    print(\"hello\")\n",
    "\n",
    "greetint()"
   ]
  },
  {
   "cell_type": "markdown",
   "metadata": {},
   "source": [
    "4.11 Define an exception called OopsException. Raise this exception to see what hap‐\n",
    "pens. Then write the code to catch this exception and print 'Caught an oops'.\n"
   ]
  },
  {
   "cell_type": "code",
   "execution_count": 51,
   "metadata": {},
   "outputs": [
    {
     "name": "stdout",
     "output_type": "stream",
     "text": [
      "Caught an oops: 9\n"
     ]
    }
   ],
   "source": [
    "class OopsException():\n",
    "    print(\"Caught an oops:\",i)\n",
    "\n",
    "for i in range(10):\n",
    "    if i > 9:\n",
    "        raise OopsException(i)"
   ]
  },
  {
   "cell_type": "markdown",
   "metadata": {},
   "source": [
    "4.12 Use zip() to make a dictionary called movies that pairs these lists: titles =\n",
    "['Creature of Habit', 'Crewel Fate'] and plots = ['A nun turns into a mon\n",
    "ster', 'A haunted yarn shop']."
   ]
  },
  {
   "cell_type": "code",
   "execution_count": 55,
   "metadata": {},
   "outputs": [
    {
     "name": "stdout",
     "output_type": "stream",
     "text": [
      "Title:  Creature of Habit \t\tPlots: A nun turns into a monster\n",
      "Title:  Crewel Fate \t\tPlots: A haunted yarn shop\n"
     ]
    }
   ],
   "source": [
    "titles =['Creature of Habit', 'Crewel Fate']\n",
    "plots = ['A nun turns into a monster', 'A haunted yarn shop']\n",
    "movie = zip(titles,plots)\n",
    "\n",
    "for i,j in movie:\n",
    "    print(\"Title: \",i,\"\\t\\tPlots:\",j)"
   ]
  }
 ],
 "metadata": {
  "kernelspec": {
   "display_name": "Python 3",
   "language": "python",
   "name": "python3"
  },
  "language_info": {
   "codemirror_mode": {
    "name": "ipython",
    "version": 3
   },
   "file_extension": ".py",
   "mimetype": "text/x-python",
   "name": "python",
   "nbconvert_exporter": "python",
   "pygments_lexer": "ipython3",
   "version": "3.6.8"
  }
 },
 "nbformat": 4,
 "nbformat_minor": 2
}
