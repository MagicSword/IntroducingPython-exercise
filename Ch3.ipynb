{
 "cells": [
  {
   "cell_type": "markdown",
   "metadata": {},
   "source": [
    "**3.1**   Make a new list from your birth year to your 5th birthday."
   ]
  },
  {
   "cell_type": "code",
   "execution_count": 4,
   "metadata": {
    "collapsed": false
   },
   "outputs": [],
   "source": [
    "birth_year = 1980\n",
    "years_list = [x + birth_year for x in range(6)]"
   ]
  },
  {
   "cell_type": "markdown",
   "metadata": {},
   "source": [
    "**3.2** Which year is your third birthday?"
   ]
  },
  {
   "cell_type": "code",
   "execution_count": 5,
   "metadata": {
    "collapsed": false
   },
   "outputs": [
    {
     "name": "stdout",
     "output_type": "stream",
     "text": [
      "1984\n"
     ]
    }
   ],
   "source": [
    "print(years_list[4])"
   ]
  },
  {
   "cell_type": "markdown",
   "metadata": {},
   "source": [
    "3.3 In which year you are oldest?"
   ]
  },
  {
   "cell_type": "code",
   "execution_count": 7,
   "metadata": {
    "collapsed": false
   },
   "outputs": [
    {
     "name": "stdout",
     "output_type": "stream",
     "text": [
      "1985\n"
     ]
    }
   ],
   "source": [
    "print(max(years_list))"
   ]
  },
  {
   "cell_type": "markdown",
   "metadata": {},
   "source": [
    "3.4\n"
   ]
  },
  {
   "cell_type": "code",
   "execution_count": 18,
   "metadata": {
    "collapsed": false
   },
   "outputs": [
    {
     "name": "stdout",
     "output_type": "stream",
     "text": [
      "Mozzarella\n",
      "Cin Drella\n",
      "Salmonella\n",
      "\n",
      "3.6-----------------\n",
      "\n",
      "MOZZARELLA\n",
      "CIN DRELLA\n",
      "SALMONELLA\n",
      "\n",
      "3.7-----------------\n",
      "\n",
      "mozzarella\n",
      "cin drella\n",
      "salmonella\n",
      "Nobel Prize\n"
     ]
    }
   ],
   "source": [
    "things = [\"mozzarella\",\"cin drella\",\"salmonella\"]\n",
    "for x in things:\n",
    "    print(x.title())\n",
    "    \n",
    "print(\"\\n3.6-----------------\\n\")\n",
    "\n",
    "for x in things:\n",
    "    print(x.upper())\n",
    "    \n",
    "print(\"\\n3.7-----------------\\n\")\n",
    "things.append(\"Nobel Prize\")\n",
    "\n",
    "for x in things:\n",
    "    print(x)\n"
   ]
  },
  {
   "cell_type": "code",
   "execution_count": 54,
   "metadata": {
    "collapsed": false
   },
   "outputs": [
    {
     "name": "stdout",
     "output_type": "stream",
     "text": [
      "\n",
      "3.8-----------------\n",
      "\n",
      "\n",
      "3.9-----------------\n",
      "\n",
      "Oprah\n",
      "['Groucho', 'Chico', 'Oprah']\n"
     ]
    }
   ],
   "source": [
    "print(\"\\n3.8-----------------\\n\")\n",
    "\n",
    "surprise= [\"Groucho\",\"Chico\",\"Harpo\"]\n",
    "\n",
    "print(\"\\n3.9-----------------\\n\")\n",
    "\n",
    "tmp = surprise[-1].lower()\n",
    "tmp = tmp[-1::-1]\n",
    "print(tmp.title())\n",
    "surprise[-1] = tmp.title()\n",
    "print(surprise)\n"
   ]
  },
  {
   "cell_type": "code",
   "execution_count": 39,
   "metadata": {
    "collapsed": false
   },
   "outputs": [
    {
     "name": "stdout",
     "output_type": "stream",
     "text": [
      "\n",
      "3.10-----------------\n",
      "\n",
      "{'dog': 'chien', 'cat': 'chat', 'walrus': 'morse'}\n",
      "\n",
      "3.11-----------------\n",
      "\n",
      "morse\n",
      "\n",
      "3.12-----------------\n",
      "\n",
      "{'chien': 'dog', 'morse': 'walrus', 'chat': 'cat'}\n",
      "\n",
      "3.13-----------------\n",
      "\n",
      "dog\n",
      "\n",
      "3.14-----------------\n",
      "\n",
      "{'dog', 'cat', 'walrus'}\n"
     ]
    }
   ],
   "source": [
    "print(\"\\n3.10-----------------\\n\")\n",
    "\n",
    "e2f = {\"dog\":\"chien\",\"cat\":\"chat\",\"walrus\":\"morse\"}\n",
    "print(e2f)\n",
    "\n",
    "print(\"\\n3.11-----------------\\n\")\n",
    "print(e2f[\"walrus\"])\n",
    "\n",
    "print(\"\\n3.12-----------------\\n\")\n",
    "\n",
    "f2e = {}\n",
    "for key,val in e2f.items():\n",
    "    f2e[val] = key\n",
    "    \n",
    "print(f2e)\n",
    "\n",
    "print(\"\\n3.13-----------------\\n\")\n",
    "print(f2e[\"chien\"])\n",
    "\n",
    "print(\"\\n3.14-----------------\\n\")\n",
    "print(set(e2f))\n",
    "\n"
   ]
  },
  {
   "cell_type": "code",
   "execution_count": 53,
   "metadata": {
    "collapsed": false
   },
   "outputs": [
    {
     "name": "stdout",
     "output_type": "stream",
     "text": [
      "\n",
      "3.15-----------------\n",
      "\n",
      "{'animals': {'octopi': '', 'cats': {'Lucy', 'Grumpy', 'Henri'}, 'emus': ''}, 'other': {}, 'plants': {}}\n",
      "\n",
      "3.16-----------------\n",
      "\n",
      "['animals', 'other', 'plants']\n",
      "\n",
      "3.17-----------------\n",
      "\n",
      "{'octopi': '', 'cats': {'Lucy', 'Grumpy', 'Henri'}, 'emus': ''}\n",
      "\n",
      "3.18-----------------\n",
      "\n",
      "{'Lucy', 'Grumpy', 'Henri'}\n"
     ]
    }
   ],
   "source": [
    "print(\"\\n3.15-----------------\\n\")\n",
    "life = {'animals':{'cats':{'Henri','Grumpy','Lucy'},'octopi':'','emus':''},\n",
    "        'plants':{},\n",
    "        'other':{}\n",
    "       }\n",
    "\n",
    "print(life)\n",
    "print(\"\\n3.16-----------------\\n\")\n",
    "print(list(life.keys()))\n",
    "\n",
    "print(\"\\n3.17-----------------\\n\")\n",
    "print(life['animals'])\n",
    "\n",
    "print(\"\\n3.18-----------------\\n\")\n",
    "print(life['animals']['cats'])\n"
   ]
  },
  {
   "cell_type": "code",
   "execution_count": null,
   "metadata": {
    "collapsed": true
   },
   "outputs": [],
   "source": []
  }
 ],
 "metadata": {
  "kernelspec": {
   "display_name": "Python 3",
   "language": "python",
   "name": "python3"
  },
  "language_info": {
   "codemirror_mode": {
    "name": "ipython",
    "version": 3
   },
   "file_extension": ".py",
   "mimetype": "text/x-python",
   "name": "python",
   "nbconvert_exporter": "python",
   "pygments_lexer": "ipython3",
   "version": "3.4.2"
  },
  "widgets": {
   "state": {},
   "version": "1.1.2"
  }
 },
 "nbformat": 4,
 "nbformat_minor": 0
}
